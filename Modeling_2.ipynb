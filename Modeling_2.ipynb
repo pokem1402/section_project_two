{
 "cells": [
  {
   "cell_type": "code",
   "execution_count": 1,
   "metadata": {},
   "outputs": [],
   "source": [
    "import pandas as pd\n",
    "import numpy as np\n",
    "import sys, os\n",
    "import pickle\n",
    "import seaborn as sns\n",
    "from tqdm.notebook import tqdm\n",
    "import matplotlib\n",
    "import matplotlib.pyplot as plt\n",
    "%matplotlib inline\n",
    "\n",
    "plt.rcParams['font.family'] = 'Malgun Gothic'"
   ]
  },
  {
   "cell_type": "code",
   "execution_count": 2,
   "metadata": {},
   "outputs": [],
   "source": [
    "df = pd.read_csv(\"./dataset/new_bgg_data_after_eda2.csv\",encoding=\"utf-8\")\n",
    "df.drop(columns = [\"Rank\", \"Id\", \"Name\"], inplace = True)"
   ]
  },
  {
   "cell_type": "code",
   "execution_count": 3,
   "metadata": {},
   "outputs": [],
   "source": [
    "df_ = df.copy()"
   ]
  },
  {
   "cell_type": "markdown",
   "metadata": {},
   "source": [
    "### Data Enginerring (continue from Modeling_1.ipynb)"
   ]
  },
  {
   "cell_type": "code",
   "execution_count": 4,
   "metadata": {},
   "outputs": [
    {
     "name": "stdout",
     "output_type": "stream",
     "text": [
      "By year, we drop 202 entries.\n",
      "By Max Player, we drop 244 entries.\n"
     ]
    }
   ],
   "source": [
    "#from previous notebook\n",
    "\n",
    "# Year\n",
    "df_v1 = df_.copy()\n",
    "before = df_.shape[0]\n",
    "df_v1.drop(index = df_v1[df_v1.Year < 1600].index, inplace=True)\n",
    "after = df_v1.shape[0]\n",
    "print (f\"By year, we drop {before - after} entries.\")\n",
    "\n",
    "# MaxPlayer\n",
    "df_v2 = df_v1.copy() \n",
    "before = df_v1.shape[0]\n",
    "df_v2.drop(index = df_v2[df_v2.Maxplayers > 20].index, inplace=True)\n",
    "after = df_v2.shape[0]\n",
    "print (f\"By Max Player, we drop {before - after} entries.\")\n",
    "\n",
    "# drop artist\n",
    "df_v3 = df_v2.copy() \n",
    "df_v3.drop(columns=\"Nartist\", inplace=True)"
   ]
  },
  {
   "cell_type": "markdown",
   "metadata": {},
   "source": [
    "### Enviroment setting and Dataset splitting"
   ]
  },
  {
   "cell_type": "code",
   "execution_count": 5,
   "metadata": {},
   "outputs": [],
   "source": [
    "test_size = 0.2\n",
    "random_state = 42\n",
    "target_list_ = [\"Users_rated\", \"Rating\", \"Complexity\"]\n",
    "unused_feature_list_ = [\"Sug_players\", \"Sug_age\", \"Language_dependence\", \"Own\"]"
   ]
  },
  {
   "cell_type": "code",
   "execution_count": 6,
   "metadata": {},
   "outputs": [],
   "source": [
    "from sklearn.model_selection import train_test_split\n",
    "\n",
    "def get_Xs_Ys(df, target = target_list_, exclude = unused_feature_list_, use_val=True):\n",
    "\n",
    "      assert type(target) == list, \"target must be list\"\n",
    "      assert type(exclude) == list, \"exclude must be list\"\n",
    "\n",
    "      train, test = train_test_split(\n",
    "                        df,\n",
    "                        test_size = test_size,\n",
    "                        random_state = random_state)\n",
    "      if use_val:\n",
    "            train, val = train_test_split(\n",
    "                              train,\n",
    "                              test_size = test_size,\n",
    "                              random_state = random_state)\n",
    "\n",
    "\n",
    "      get_y = lambda data : data[target]\n",
    "      get_x = lambda data : data.drop(columns = target + exclude)\n",
    "\n",
    "      Ys = {\"train\" : get_y(train),\n",
    "            \"test\" : get_y(test)}\n",
    "      Xs = {\"train\" : get_x(train),\n",
    "            \"test\" : get_x(test)}\n",
    "      \n",
    "      if use_val:\n",
    "            Ys['val'] = get_y(val)\n",
    "            Xs['val'] = get_x(val)\n",
    "            \n",
    "      return Xs, Ys, target\n",
    "        \n",
    "Xs, Ys, target_list = get_Xs_Ys(df)"
   ]
  },
  {
   "cell_type": "markdown",
   "metadata": {},
   "source": [
    "### Modeling for Problem 1 (continue from Modeling_1.ipynb)"
   ]
  },
  {
   "cell_type": "markdown",
   "metadata": {},
   "source": [
    "4. Decision Tree"
   ]
  },
  {
   "cell_type": "markdown",
   "metadata": {},
   "source": [
    "4.1. with Hyperopt"
   ]
  },
  {
   "cell_type": "code",
   "execution_count": 7,
   "metadata": {},
   "outputs": [],
   "source": [
    "from hyperopt import fmin, tpe, Trials, STATUS_OK, hp\n",
    "from sklearn.model_selection import cross_val_score"
   ]
  },
  {
   "cell_type": "code",
   "execution_count": 8,
   "metadata": {},
   "outputs": [],
   "source": [
    "from sklearn.tree import DecisionTreeRegressor\n",
    "from sklearn.metrics import mean_squared_error\n",
    "\n",
    "def make_dt(dt_args = {}):\n",
    "    \n",
    "    dt_args[\"max_depth\"] = int(dt_args[\"max_depth\"])\n",
    "         \n",
    "    return DecisionTreeRegressor(random_state = random_state, **dt_args)\n",
    "\n",
    "def find_best_param_decision_tree(df, results=False):\n",
    "    \n",
    "    params = {\n",
    "        \"max_depth\": hp.quniform(\"max_depth\", 2, 40, 2),\n",
    "        \"min_samples_split\" : hp.uniform(\"min_samples_split\", 0.5, 1.0),\n",
    "        \"min_samples_leaf\" : hp.quniform(\"min_samples_leaf\", 1, 5, 1),\n",
    "        \"max_features\" : hp.choice(\"max_features\", [None, \"sqrt\", \"log2\"]),\n",
    "        \"min_impurity_decrease\" : hp.uniform(\"min_impurity_decrease\", 0.5, 1.0),\n",
    "        \"criterion\" : hp.choice(\"criterion\", [\"squared_error\", \"absolute_error\", \"poisson\"])\n",
    "    } \n",
    "    Xs, Ys, target_list = get_Xs_Ys(df, use_val=True)\n",
    "    \n",
    "    best_params = []\n",
    "    trials = []\n",
    "    \n",
    "    i = 0\n",
    "    def fit_and_eval(params):\n",
    "    \n",
    "        dt = make_dt(dt_args = params)\n",
    "        \n",
    "        dt.fit(Xs['train'], Ys['train'].iloc[:, i])\n",
    "        \n",
    "        y_pred_val = dt.predict(Xs['val'])\n",
    "        \n",
    "        score = mean_squared_error(Ys['val'].iloc[:, i], y_pred_val)\n",
    "        \n",
    "        # score = cross_val_score(dt, Xs['train'], Ys['train'].iloc[:, i], cv=5, scoring=\"neg_mean_squared_error\")\n",
    "        # avg_cv_score = np.mean(score)\n",
    "        \n",
    "        return {\"loss\" : score, \"status\":STATUS_OK}\n",
    "    \n",
    "    for j in range(len(target_list)):\n",
    "\n",
    "        i = j\n",
    "        \n",
    "        trial = (Trials())       \n",
    "        \n",
    "        best_param = fmin(\n",
    "            fn = fit_and_eval,\n",
    "            trials = trial,\n",
    "            space = params,\n",
    "            algo = tpe.suggest,\n",
    "            max_evals = 20\n",
    "        )\n",
    "        best_params.append(best_param)\n",
    "        trials.append(trial)\n",
    "    \n",
    "    if results:\n",
    "        return best_params, trials"
   ]
  },
  {
   "cell_type": "code",
   "execution_count": 58,
   "metadata": {},
   "outputs": [
    {
     "name": "stdout",
     "output_type": "stream",
     "text": [
      "100%|██████████| 20/20 [00:00<00:00, 31.53trial/s, best loss: 11875945.666352432]\n",
      "100%|██████████| 20/20 [00:00<00:00, 31.49trial/s, best loss: 0.8613774659743214]\n",
      "100%|██████████| 20/20 [00:00<00:00, 31.88trial/s, best loss: 0.6578505151420543]\n",
      "100%|██████████| 20/20 [00:00<00:00, 42.39trial/s, best loss: 13715735.045520952]\n",
      "100%|██████████| 20/20 [00:00<00:00, 41.26trial/s, best loss: 0.8375320598875979]\n",
      "100%|██████████| 20/20 [00:00<00:00, 27.64trial/s, best loss: 0.7095266943102468]\n",
      "100%|██████████| 20/20 [00:00<00:00, 61.51trial/s, best loss: 13639480.347471006]\n",
      "100%|██████████| 20/20 [00:00<00:00, 38.27trial/s, best loss: 0.8929002611159038]\n",
      "100%|██████████| 20/20 [00:00<00:00, 39.48trial/s, best loss: 0.6812828201096172]\n",
      "100%|██████████| 20/20 [00:00<00:00, 30.04trial/s, best loss: 13639480.347471006]\n",
      "100%|██████████| 20/20 [00:00<00:00, 42.04trial/s, best loss: 0.8929002611159038]\n",
      "100%|██████████| 20/20 [00:00<00:00, 30.57trial/s, best loss: 0.6812828201096172]\n"
     ]
    }
   ],
   "source": [
    "dataset = [df_, df_v1, df_v2, df_v3]\n",
    "\n",
    "best_params_group = []\n",
    "trials_group = []\n",
    "\n",
    "for data in dataset:\n",
    "    best_params, trials = find_best_param_decision_tree(data, results= True)\n",
    "    best_params_group.append(best_params)\n",
    "    trials_group.append(trials)"
   ]
  },
  {
   "cell_type": "code",
   "execution_count": 10,
   "metadata": {},
   "outputs": [],
   "source": [
    "from sklearn.metrics import mean_squared_error, mean_absolute_error, r2_score\n",
    "\n",
    "def eval_models(y_pred, y_true, verbose = False):\n",
    "    mse = mean_squared_error(y_true, y_pred)\n",
    "    rmse = np.sqrt(mse)\n",
    "    mae = mean_absolute_error(y_true, y_pred)\n",
    "    r2 = r2_score(y_true, y_pred)\n",
    "    \n",
    "    if verbose:\n",
    "        \n",
    "        return {\"MSE\" : mse,\n",
    "                \"RMSE\" : rmse,\n",
    "                \"MAE\" : mae,\n",
    "                \"R2\": r2}\n",
    "    else:\n",
    "        return mse, rmse, mae, r2\n",
    "\n",
    "def test_eval(x_test, y_test, model, target_list):\n",
    "\n",
    "    assert len(model) == len(target_list)\n",
    "\n",
    "    eval_tests = []\n",
    "    for i in range(len(target_list)):\n",
    "\n",
    "        eval_test = eval_models(model[i].predict(x_test), Ys['test'][target_list[i]])\n",
    "        eval_tests.append(eval_test)\n",
    "\n",
    "    return pd.DataFrame(eval_tests, index=target_list, columns=[\"MSE\", \"RMSE\", \"MAE\", \"R2\"])"
   ]
  },
  {
   "cell_type": "code",
   "execution_count": 62,
   "metadata": {},
   "outputs": [],
   "source": [
    "def make_best_model(params, x_train, y_train, target_list):\n",
    "    \n",
    "    assert len(params) == len(target_list)\n",
    "    \n",
    "    models = []\n",
    "    \n",
    "    for i, param in tqdm(enumerate(params)):\n",
    "        dtree = make_dt(dt_args = param)\n",
    "        dtree.fit(x_train, y_train[target_list[i]])\n",
    "        \n",
    "        models.append(dtree)\n",
    "    \n",
    "    return models\n"
   ]
  },
  {
   "cell_type": "code",
   "execution_count": 50,
   "metadata": {},
   "outputs": [],
   "source": [
    "Xs, Ys, _ = get_Xs_Ys(df_, use_val=False)\n",
    "\n",
    "max_features = [None, \"sqrt\", \"log2\"]\n",
    "criterion = [\"squared_error\", \"absolute_error\", \"poisson\"]\n",
    "\n",
    "best_params_ = [best_params_group[0][0],\n",
    "                best_params_group[1][1],\n",
    "                best_params_group[0][2]]\n",
    "\n",
    "for best_param in best_params_:\n",
    "    best_param[\"max_features\"] = max_features[best_param[\"max_features\"]]\n",
    "    best_param[\"criterion\"] = criterion[best_param[\"criterion\"]]"
   ]
  },
  {
   "cell_type": "code",
   "execution_count": 36,
   "metadata": {},
   "outputs": [
    {
     "data": {
      "application/vnd.jupyter.widget-view+json": {
       "model_id": "d9a8aa6752084d7299c7af2c6b4db4b2",
       "version_major": 2,
       "version_minor": 0
      },
      "text/plain": [
       "0it [00:00, ?it/s]"
      ]
     },
     "metadata": {},
     "output_type": "display_data"
    },
    {
     "data": {
      "application/vnd.jupyter.widget-view+json": {
       "model_id": "1e4951ef06604cb1881ada7f3c714101",
       "version_major": 2,
       "version_minor": 0
      },
      "text/plain": [
       "0it [00:00, ?it/s]"
      ]
     },
     "metadata": {},
     "output_type": "display_data"
    }
   ],
   "source": [
    "Xs, Ys, _ = get_Xs_Ys(df_, use_val=False)\n",
    "dt_0_2 = make_best_model([best_params_group[0][0],best_params_group[0][2]],\n",
    "                        Xs['train'],\n",
    "                        Ys['train'],\n",
    "                        [\"Users_rated\", \"Complexity\"])\n",
    "\n",
    "t1 = test_eval(Xs['test'], Ys['test'], dt_0_2, [\"Users_rated\", \"Complexity\"])\n",
    "\n",
    "Xs, Ys, _ = get_Xs_Ys(df_v1, use_val=False)\n",
    "dt_1 = make_best_model([best_params_group[1][1]],\n",
    "                        Xs['train'],\n",
    "                        Ys['train'],\n",
    "                        [\"Rating\"])\n",
    "\n",
    "t2 = test_eval(Xs['test'], Ys['test'], dt_1, [\"Rating\"])"
   ]
  },
  {
   "cell_type": "code",
   "execution_count": 47,
   "metadata": {},
   "outputs": [
    {
     "data": {
      "text/html": [
       "<div>\n",
       "<style scoped>\n",
       "    .dataframe tbody tr th:only-of-type {\n",
       "        vertical-align: middle;\n",
       "    }\n",
       "\n",
       "    .dataframe tbody tr th {\n",
       "        vertical-align: top;\n",
       "    }\n",
       "\n",
       "    .dataframe thead th {\n",
       "        text-align: right;\n",
       "    }\n",
       "</style>\n",
       "<table border=\"1\" class=\"dataframe\">\n",
       "  <thead>\n",
       "    <tr style=\"text-align: right;\">\n",
       "      <th></th>\n",
       "      <th>MSE</th>\n",
       "      <th>RMSE</th>\n",
       "      <th>MAE</th>\n",
       "      <th>R2</th>\n",
       "    </tr>\n",
       "  </thead>\n",
       "  <tbody>\n",
       "    <tr>\n",
       "      <th>Users_rated</th>\n",
       "      <td>8.426302e+06</td>\n",
       "      <td>2902.809365</td>\n",
       "      <td>1084.107741</td>\n",
       "      <td>-0.002030</td>\n",
       "    </tr>\n",
       "    <tr>\n",
       "      <th>Rating</th>\n",
       "      <td>7.020936e-01</td>\n",
       "      <td>0.837910</td>\n",
       "      <td>0.674865</td>\n",
       "      <td>-0.001991</td>\n",
       "    </tr>\n",
       "    <tr>\n",
       "      <th>Complexity</th>\n",
       "      <td>8.277937e-01</td>\n",
       "      <td>0.909832</td>\n",
       "      <td>0.712981</td>\n",
       "      <td>-0.000040</td>\n",
       "    </tr>\n",
       "  </tbody>\n",
       "</table>\n",
       "</div>"
      ],
      "text/plain": [
       "                      MSE         RMSE          MAE        R2\n",
       "Users_rated  8.426302e+06  2902.809365  1084.107741 -0.002030\n",
       "Rating       7.020936e-01     0.837910     0.674865 -0.001991\n",
       "Complexity   8.277937e-01     0.909832     0.712981 -0.000040"
      ]
     },
     "execution_count": 47,
     "metadata": {},
     "output_type": "execute_result"
    }
   ],
   "source": [
    "t = pd.concat([t1, t2], axis=0)\n",
    "t.index = target_list_\n",
    "t"
   ]
  },
  {
   "cell_type": "code",
   "execution_count": 59,
   "metadata": {},
   "outputs": [
    {
     "data": {
      "application/vnd.jupyter.widget-view+json": {
       "model_id": "73dc240273684d608a670a91df78dae2",
       "version_major": 2,
       "version_minor": 0
      },
      "text/plain": [
       "0it [00:00, ?it/s]"
      ]
     },
     "metadata": {},
     "output_type": "display_data"
    },
    {
     "data": {
      "text/html": [
       "<div>\n",
       "<style scoped>\n",
       "    .dataframe tbody tr th:only-of-type {\n",
       "        vertical-align: middle;\n",
       "    }\n",
       "\n",
       "    .dataframe tbody tr th {\n",
       "        vertical-align: top;\n",
       "    }\n",
       "\n",
       "    .dataframe thead th {\n",
       "        text-align: right;\n",
       "    }\n",
       "</style>\n",
       "<table border=\"1\" class=\"dataframe\">\n",
       "  <thead>\n",
       "    <tr style=\"text-align: right;\">\n",
       "      <th></th>\n",
       "      <th>MSE</th>\n",
       "      <th>RMSE</th>\n",
       "      <th>MAE</th>\n",
       "      <th>R2</th>\n",
       "    </tr>\n",
       "  </thead>\n",
       "  <tbody>\n",
       "    <tr>\n",
       "      <th>Users_rated</th>\n",
       "      <td>8.426302e+06</td>\n",
       "      <td>2902.809365</td>\n",
       "      <td>1084.107741</td>\n",
       "      <td>-0.002030</td>\n",
       "    </tr>\n",
       "    <tr>\n",
       "      <th>Rating</th>\n",
       "      <td>8.560904e-01</td>\n",
       "      <td>0.925252</td>\n",
       "      <td>0.717580</td>\n",
       "      <td>-0.000357</td>\n",
       "    </tr>\n",
       "    <tr>\n",
       "      <th>Complexity</th>\n",
       "      <td>7.020936e-01</td>\n",
       "      <td>0.837910</td>\n",
       "      <td>0.674865</td>\n",
       "      <td>-0.001991</td>\n",
       "    </tr>\n",
       "  </tbody>\n",
       "</table>\n",
       "</div>"
      ],
      "text/plain": [
       "                      MSE         RMSE          MAE        R2\n",
       "Users_rated  8.426302e+06  2902.809365  1084.107741 -0.002030\n",
       "Rating       8.560904e-01     0.925252     0.717580 -0.000357\n",
       "Complexity   7.020936e-01     0.837910     0.674865 -0.001991"
      ]
     },
     "execution_count": 59,
     "metadata": {},
     "output_type": "execute_result"
    }
   ],
   "source": [
    "Xs, Ys, _ = get_Xs_Ys(df_, use_val=False)\n",
    "\n",
    "max_features = [None, \"sqrt\", \"log2\"]\n",
    "criterion = [\"squared_error\", \"absolute_error\", \"poisson\"]\n",
    "\n",
    "for best_param in best_params_group[0]:\n",
    "    best_param[\"max_features\"] = max_features[best_param[\"max_features\"]]\n",
    "    best_param[\"criterion\"] = criterion[best_param[\"criterion\"]]\n",
    "    \n"
   ]
  },
  {
   "cell_type": "code",
   "execution_count": 64,
   "metadata": {},
   "outputs": [
    {
     "data": {
      "text/plain": [
       "[{'criterion': 'squared_error',\n",
       "  'max_depth': 30,\n",
       "  'max_features': 'sqrt',\n",
       "  'min_impurity_decrease': 0.6918248079430422,\n",
       "  'min_samples_leaf': 3.0,\n",
       "  'min_samples_split': 0.7472979432859868},\n",
       " {'criterion': 'poisson',\n",
       "  'max_depth': 34,\n",
       "  'max_features': None,\n",
       "  'min_impurity_decrease': 0.8036358995125704,\n",
       "  'min_samples_leaf': 2.0,\n",
       "  'min_samples_split': 0.6876976184667712},\n",
       " {'criterion': 'absolute_error',\n",
       "  'max_depth': 34,\n",
       "  'max_features': 'log2',\n",
       "  'min_impurity_decrease': 0.8334961998941997,\n",
       "  'min_samples_leaf': 2.0,\n",
       "  'min_samples_split': 0.6115968092528161}]"
      ]
     },
     "execution_count": 64,
     "metadata": {},
     "output_type": "execute_result"
    }
   ],
   "source": [
    "best_params_group[0]"
   ]
  },
  {
   "cell_type": "code",
   "execution_count": 63,
   "metadata": {},
   "outputs": [
    {
     "data": {
      "application/vnd.jupyter.widget-view+json": {
       "model_id": "8d569629e14d4050b349c66d99fc6c7c",
       "version_major": 2,
       "version_minor": 0
      },
      "text/plain": [
       "0it [00:00, ?it/s]"
      ]
     },
     "metadata": {},
     "output_type": "display_data"
    },
    {
     "data": {
      "text/html": [
       "<div>\n",
       "<style scoped>\n",
       "    .dataframe tbody tr th:only-of-type {\n",
       "        vertical-align: middle;\n",
       "    }\n",
       "\n",
       "    .dataframe tbody tr th {\n",
       "        vertical-align: top;\n",
       "    }\n",
       "\n",
       "    .dataframe thead th {\n",
       "        text-align: right;\n",
       "    }\n",
       "</style>\n",
       "<table border=\"1\" class=\"dataframe\">\n",
       "  <thead>\n",
       "    <tr style=\"text-align: right;\">\n",
       "      <th></th>\n",
       "      <th>MSE</th>\n",
       "      <th>RMSE</th>\n",
       "      <th>MAE</th>\n",
       "      <th>R2</th>\n",
       "    </tr>\n",
       "  </thead>\n",
       "  <tbody>\n",
       "    <tr>\n",
       "      <th>Users_rated</th>\n",
       "      <td>8.426302e+06</td>\n",
       "      <td>2902.809365</td>\n",
       "      <td>1084.107741</td>\n",
       "      <td>-0.002030</td>\n",
       "    </tr>\n",
       "    <tr>\n",
       "      <th>Rating</th>\n",
       "      <td>8.560904e-01</td>\n",
       "      <td>0.925252</td>\n",
       "      <td>0.717580</td>\n",
       "      <td>-0.000357</td>\n",
       "    </tr>\n",
       "    <tr>\n",
       "      <th>Complexity</th>\n",
       "      <td>7.020936e-01</td>\n",
       "      <td>0.837910</td>\n",
       "      <td>0.674865</td>\n",
       "      <td>-0.001991</td>\n",
       "    </tr>\n",
       "  </tbody>\n",
       "</table>\n",
       "</div>"
      ],
      "text/plain": [
       "                      MSE         RMSE          MAE        R2\n",
       "Users_rated  8.426302e+06  2902.809365  1084.107741 -0.002030\n",
       "Rating       8.560904e-01     0.925252     0.717580 -0.000357\n",
       "Complexity   7.020936e-01     0.837910     0.674865 -0.001991"
      ]
     },
     "execution_count": 63,
     "metadata": {},
     "output_type": "execute_result"
    }
   ],
   "source": [
    "dt = make_best_model(best_params_group[0], Xs['train'], Ys['train'], target_list_)\n",
    "\n",
    "test_eval(Xs['test'], Ys['test'], dt, target_list)"
   ]
  },
  {
   "cell_type": "code",
   "execution_count": 55,
   "metadata": {},
   "outputs": [
    {
     "data": {
      "text/plain": [
       "19594     460\n",
       "15754     103\n",
       "18397      72\n",
       "15591      60\n",
       "3263      432\n",
       "         ... \n",
       "19919     433\n",
       "16580      45\n",
       "15345      70\n",
       "535      4115\n",
       "6868       84\n",
       "Name: Users_rated, Length: 4004, dtype: int64"
      ]
     },
     "execution_count": 55,
     "metadata": {},
     "output_type": "execute_result"
    }
   ],
   "source": [
    "Ys['test'].iloc[:,0]"
   ]
  },
  {
   "cell_type": "code",
   "execution_count": 60,
   "metadata": {},
   "outputs": [
    {
     "data": {
      "text/plain": [
       "array([875.56207844, 875.56207844, 875.56207844, ..., 875.56207844,\n",
       "       875.56207844, 875.56207844])"
      ]
     },
     "execution_count": 60,
     "metadata": {},
     "output_type": "execute_result"
    }
   ],
   "source": [
    "dt[0].predict(Xs['test'])"
   ]
  },
  {
   "cell_type": "code",
   "execution_count": 54,
   "metadata": {},
   "outputs": [
    {
     "data": {
      "text/plain": [
       "-0.0020304570973386227"
      ]
     },
     "execution_count": 54,
     "metadata": {},
     "output_type": "execute_result"
    }
   ],
   "source": [
    "r2_score(Ys['test'].iloc[:,0], dt[0].predict(Xs['test']))"
   ]
  },
  {
   "cell_type": "markdown",
   "metadata": {},
   "source": [
    "4.2 with Random Search"
   ]
  },
  {
   "cell_type": "code",
   "execution_count": 12,
   "metadata": {},
   "outputs": [],
   "source": [
    "from sklearn.model_selection import RandomizedSearchCV\n",
    "\n",
    "def find_best_param_randomly(df, results=False):\n",
    "    params = {\n",
    "        \"max_depth\": np.arange(1, 16)*10,\n",
    "        \"min_samples_split\" : np.random.uniform(0.5, 1.0, 100),\n",
    "        \"min_samples_leaf\" : [1,2,3,4,5],\n",
    "        \"max_features\" : [None, \"sqrt\", \"log2\"],\n",
    "        \"min_impurity_decrease\" : np.random.uniform(0.01, 1.0, 100),\n",
    "        \"criterion\" : [\"squared_error\", \"absolute_error\",]\n",
    "    }\n",
    "    Xs, Ys, target_list = get_Xs_Ys(df, use_val=False)\n",
    "    \n",
    "    random_searchs = []\n",
    "    \n",
    "    for i in tqdm(range(len(target_list))):\n",
    "        random_search = RandomizedSearchCV(DecisionTreeRegressor(random_state = random_state), params, n_iter = 20,\n",
    "                                           n_jobs=-1, random_state=random_state, cv=5)\n",
    "        random_search.fit(Xs['train'], Ys['train'].iloc[:, i])\n",
    "        \n",
    "        random_searchs.append(random_search)\n",
    "        print(f\"Target : {target_list[i]}\")\n",
    "        print(\"Best parameter: \", random_search.best_params_)\n",
    "        print(\"Best R2 Score: \", random_search.best_score_)\n",
    "    \n",
    "    if results:\n",
    "        return random_searchs"
   ]
  },
  {
   "cell_type": "code",
   "execution_count": 13,
   "metadata": {},
   "outputs": [],
   "source": [
    "# dataset = [df, df_v1, df_v2, df_v3]\n",
    "\n",
    "# for i, data in tqdm(enumerate(dataset)):\n",
    "#     print(f\"df_v[{i}] : \" ,end=\"\")\n",
    "#     find_best_param_randomly(data)\n"
   ]
  }
 ],
 "metadata": {
  "kernelspec": {
   "display_name": "Python 3.9.13 ('codestates')",
   "language": "python",
   "name": "python3"
  },
  "language_info": {
   "codemirror_mode": {
    "name": "ipython",
    "version": 3
   },
   "file_extension": ".py",
   "mimetype": "text/x-python",
   "name": "python",
   "nbconvert_exporter": "python",
   "pygments_lexer": "ipython3",
   "version": "3.9.13"
  },
  "orig_nbformat": 4,
  "vscode": {
   "interpreter": {
    "hash": "cb73bac0861f7ad1c5e4f284911583bb658c36ecb40b89f5538794b4a14d4614"
   }
  }
 },
 "nbformat": 4,
 "nbformat_minor": 2
}
