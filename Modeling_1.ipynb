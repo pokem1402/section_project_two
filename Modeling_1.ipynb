{
 "cells": [
  {
   "cell_type": "code",
   "execution_count": 1,
   "metadata": {},
   "outputs": [],
   "source": [
    "import pandas as pd\n",
    "import numpy as np\n",
    "import sys, os\n",
    "import pickle\n",
    "import seaborn as sns\n",
    "from tqdm.notebook import tqdm\n",
    "import matplotlib\n",
    "import matplotlib.pyplot as plt\n",
    "%matplotlib inline\n",
    "\n",
    "plt.rcParams['font.family'] = 'Malgun Gothic'"
   ]
  },
  {
   "cell_type": "code",
   "execution_count": 2,
   "metadata": {},
   "outputs": [],
   "source": [
    "df = pd.read_csv(\"./dataset/new_bgg_data_after_eda2.csv\",encoding=\"utf-8\")\n",
    "df.drop(columns = [\"Rank\", \"Id\", \"Name\"], inplace = True)"
   ]
  },
  {
   "cell_type": "code",
   "execution_count": 3,
   "metadata": {},
   "outputs": [],
   "source": [
    "df_ = df.copy()"
   ]
  },
  {
   "cell_type": "markdown",
   "metadata": {},
   "source": [
    "### Data Engineering"
   ]
  },
  {
   "cell_type": "code",
   "execution_count": 4,
   "metadata": {},
   "outputs": [
    {
     "name": "stdout",
     "output_type": "stream",
     "text": [
      "By year, we drop 202 entries.\n"
     ]
    }
   ],
   "source": [
    "# Year\n",
    "df_v1 = df_.copy()\n",
    "before = df_.shape[0]\n",
    "df_v1.drop(index = df_v1[df_v1.Year < 1600].index, inplace=True)\n",
    "after = df_v1.shape[0]\n",
    "print (f\"By year, we drop {before - after} entries.\")\n"
   ]
  },
  {
   "cell_type": "code",
   "execution_count": 5,
   "metadata": {},
   "outputs": [
    {
     "name": "stdout",
     "output_type": "stream",
     "text": [
      "By Max Player, we drop 244 entries.\n"
     ]
    }
   ],
   "source": [
    "# MaxPlayer\n",
    "df_v2 = df_v1.copy() \n",
    "before = df_v1.shape[0]\n",
    "df_v2.drop(index = df_v2[df_v2.Maxplayers > 20].index, inplace=True)\n",
    "after = df_v2.shape[0]\n",
    "print (f\"By Max Player, we drop {before - after} entries.\")"
   ]
  },
  {
   "cell_type": "code",
   "execution_count": 6,
   "metadata": {},
   "outputs": [],
   "source": [
    "# drop artist\n",
    "df_v3 = df_v2.copy() \n",
    "df_v3.drop(columns=\"Nartist\", inplace=True)\n"
   ]
  },
  {
   "cell_type": "code",
   "execution_count": 7,
   "metadata": {},
   "outputs": [],
   "source": [
    "# by designer\n",
    "df_v4 = df_v3.copy() \n",
    "# before = df_v3.shape[0]\n",
    "# df_v4.drop(index = df_v4[df_v4.Ndesign > 7].index, inplace=True)\n",
    "# after = df_v4.shape[0]\n",
    "# print (f\"By Max Player, we drop {before - after} entries.\")\n",
    "\n",
    "df_v4.drop(columns=\"Ndesign\", inplace=True)\n"
   ]
  },
  {
   "cell_type": "markdown",
   "metadata": {},
   "source": [
    "### Dataset split into train, test (+ validation)"
   ]
  },
  {
   "cell_type": "code",
   "execution_count": 8,
   "metadata": {},
   "outputs": [],
   "source": [
    "test_size = 0.2\n",
    "random_state = 42"
   ]
  },
  {
   "cell_type": "code",
   "execution_count": 59,
   "metadata": {},
   "outputs": [],
   "source": [
    "from sklearn.model_selection import train_test_split\n",
    "\n",
    "def get_Xs_Ys(df, target, exclude, use_val=True):\n",
    "\n",
    "      assert type(target) == list, \"target must be list\"\n",
    "      assert type(exclude) == list, \"exclude must be list\"\n",
    "\n",
    "      train, test = train_test_split(\n",
    "                        df,\n",
    "                        test_size = test_size,\n",
    "                        random_state = random_state)\n",
    "      if use_val:\n",
    "            train, val = train_test_split(\n",
    "                              train,\n",
    "                              test_size = test_size,\n",
    "                              random_state = random_state)\n",
    "\n",
    "\n",
    "      get_y = lambda data : data[target]\n",
    "      get_x = lambda data : data.drop(columns = target + exclude)\n",
    "\n",
    "      Ys = {\"train\" : get_y(train),\n",
    "            \"test\" : get_y(test)}\n",
    "      Xs = {\"train\" : get_x(train),\n",
    "            \"test\" : get_x(test)}\n",
    "      \n",
    "      if use_val:\n",
    "            Ys['val'] = get_y(val)\n",
    "            Xs['val'] = get_x(val)\n",
    "            \n",
    "      return Xs, Ys, target\n",
    "        \n",
    "Xs, Ys, target_list = get_Xs_Ys(df, [\"Users_rated\", \"Rating\", \"Complexity\"], [\"Sug_players\", \"Sug_age\", \"Language_dependence\", \"Own\"])"
   ]
  },
  {
   "cell_type": "markdown",
   "metadata": {},
   "source": [
    "### Modeling for Problem 1"
   ]
  },
  {
   "cell_type": "markdown",
   "metadata": {},
   "source": [
    "1. Baseline with mean"
   ]
  },
  {
   "cell_type": "code",
   "execution_count": 49,
   "metadata": {},
   "outputs": [],
   "source": [
    "from sklearn.metrics import r2_score, mean_absolute_error, mean_squared_error\n",
    "\n",
    "def eval_models(y_pred, y_true, verbose = False):\n",
    "    mse = mean_squared_error(y_true, y_pred)\n",
    "    rmse = np.sqrt(mse)\n",
    "    mae = mean_absolute_error(y_true, y_pred)\n",
    "    r2 = r2_score(y_true, y_pred)\n",
    "    \n",
    "    if verbose:\n",
    "        \n",
    "        return {\"MSE\" : mse,\n",
    "                \"RMSE\" : rmse,\n",
    "                \"MAE\" : mae,\n",
    "                \"R2\": r2}\n",
    "    else:\n",
    "        return mse, rmse, mae, r2"
   ]
  },
  {
   "cell_type": "code",
   "execution_count": 55,
   "metadata": {},
   "outputs": [
    {
     "name": "stdout",
     "output_type": "stream",
     "text": [
      "[Baseline] Users_rate : 865.61, Rating : 6.39, Complexity : 1.98\n"
     ]
    },
    {
     "data": {
      "text/html": [
       "<div>\n",
       "<style scoped>\n",
       "    .dataframe tbody tr th:only-of-type {\n",
       "        vertical-align: middle;\n",
       "    }\n",
       "\n",
       "    .dataframe tbody tr th {\n",
       "        vertical-align: top;\n",
       "    }\n",
       "\n",
       "    .dataframe thead th {\n",
       "        text-align: right;\n",
       "    }\n",
       "</style>\n",
       "<table border=\"1\" class=\"dataframe\">\n",
       "  <thead>\n",
       "    <tr style=\"text-align: right;\">\n",
       "      <th></th>\n",
       "      <th>MSE</th>\n",
       "      <th>RMSE</th>\n",
       "      <th>MAE</th>\n",
       "      <th>R2</th>\n",
       "    </tr>\n",
       "  </thead>\n",
       "  <tbody>\n",
       "    <tr>\n",
       "      <th>Rating</th>\n",
       "      <td>0.823455</td>\n",
       "      <td>0.907444</td>\n",
       "      <td>0.707303</td>\n",
       "      <td>-0.000047</td>\n",
       "    </tr>\n",
       "    <tr>\n",
       "      <th>Complexity</th>\n",
       "      <td>0.689546</td>\n",
       "      <td>0.830389</td>\n",
       "      <td>0.663116</td>\n",
       "      <td>-0.000170</td>\n",
       "    </tr>\n",
       "  </tbody>\n",
       "</table>\n",
       "</div>"
      ],
      "text/plain": [
       "                 MSE      RMSE       MAE        R2\n",
       "Rating      0.823455  0.907444  0.707303 -0.000047\n",
       "Complexity  0.689546  0.830389  0.663116 -0.000170"
      ]
     },
     "execution_count": 55,
     "metadata": {},
     "output_type": "execute_result"
    }
   ],
   "source": [
    "\n",
    "baseline_Users_rated = [Ys['train'].Users_rated.mean()] * Ys['test'].shape[0]\n",
    "baseline_Rating = [Ys['train'].Rating.mean()]* Ys['test'].shape[0]\n",
    "baseline_Complexity = [Ys['train'].Complexity.mean()]* Ys['test'].shape[0]\n",
    "\n",
    "print(f\"[Baseline] Users_rate : {round(baseline_Users_rated[0],2)}, Rating : {round(baseline_Rating[0], 2)}, Complexity : {round(baseline_Complexity[0], 2)}\")\n",
    "\n",
    "pd.DataFrame([eval_models(baseline_Rating, Ys[\"test\"].Rating, verbose=True), eval_models(baseline_Complexity, Ys[\"test\"].Complexity, verbose=True)],\n",
    "             index = [\"Rating\", \"Complexity\"])\n",
    "\n",
    "\n",
    "\n"
   ]
  },
  {
   "cell_type": "markdown",
   "metadata": {},
   "source": [
    "2. Simple Linear Regression"
   ]
  },
  {
   "cell_type": "code",
   "execution_count": 12,
   "metadata": {},
   "outputs": [],
   "source": [
    "from sklearn.linear_model import LinearRegression\n",
    "from sklearn.preprocessing import StandardScaler\n",
    "from sklearn.feature_selection import SelectKBest\n",
    "from sklearn.feature_selection import f_regression\n",
    "from sklearn.pipeline import make_pipeline"
   ]
  },
  {
   "cell_type": "code",
   "execution_count": 13,
   "metadata": {},
   "outputs": [],
   "source": [
    "def make_simple_linear(sk_args = {}, lrg_arg = {}):\n",
    "    return make_pipeline(\n",
    "        SelectKBest(score_func=f_regression),\n",
    "        LinearRegression(**lrg_arg),\n",
    "    )"
   ]
  },
  {
   "cell_type": "code",
   "execution_count": 61,
   "metadata": {},
   "outputs": [],
   "source": [
    "\n",
    "\n",
    "def result_regress(model, Xs, Ys, y_order):\n",
    "    \n",
    "    scaler = StandardScaler()\n",
    "    \n",
    "    x_train = pd.DataFrame(scaler.fit_transform(Xs['train']), columns = Xs['train'].columns)\n",
    "    x_val = pd.DataFrame(scaler.transform(Xs['val']), columns = Xs['val'].columns)\n",
    "    x_test = pd.DataFrame(scaler.transform(Xs['test']), columns= Xs['test'].columns)\n",
    "    \n",
    "    model.fit(x_train, Ys['train'].iloc[:, y_order])\n",
    "    \n",
    "    y_pred_train = model.predict(x_train)\n",
    "    y_pred_val   = model.predict(x_val)\n",
    "    y_pred_test  = model.predict(x_test)\n",
    "    \n",
    "    eval_train = eval_models(y_pred_train, Ys['train'].iloc[:, y_order])\n",
    "    eval_val = eval_models(y_pred_val, Ys['val'].iloc[:, y_order])\n",
    "    eval_test = eval_models(y_pred_test, Ys['test'].iloc[:, y_order])\n",
    "\n",
    "\n",
    "    return pd.DataFrame([eval_train, eval_val, eval_test], columns=[\"MSE\", \"RMSE\", \"MAE\", \"R2\"], index = [\"train\", \"validation\", \"test\"]) \n"
   ]
  },
  {
   "cell_type": "code",
   "execution_count": 15,
   "metadata": {},
   "outputs": [
    {
     "data": {
      "text/html": [
       "<div>\n",
       "<style scoped>\n",
       "    .dataframe tbody tr th:only-of-type {\n",
       "        vertical-align: middle;\n",
       "    }\n",
       "\n",
       "    .dataframe tbody tr th {\n",
       "        vertical-align: top;\n",
       "    }\n",
       "\n",
       "    .dataframe thead th {\n",
       "        text-align: right;\n",
       "    }\n",
       "</style>\n",
       "<table border=\"1\" class=\"dataframe\">\n",
       "  <thead>\n",
       "    <tr style=\"text-align: right;\">\n",
       "      <th></th>\n",
       "      <th>MSE</th>\n",
       "      <th>RMSE</th>\n",
       "      <th>MAE</th>\n",
       "      <th>R2</th>\n",
       "    </tr>\n",
       "  </thead>\n",
       "  <tbody>\n",
       "    <tr>\n",
       "      <th>train</th>\n",
       "      <td>1.162752e+07</td>\n",
       "      <td>3409.915657</td>\n",
       "      <td>1145.057381</td>\n",
       "      <td>0.165537</td>\n",
       "    </tr>\n",
       "    <tr>\n",
       "      <th>validation</th>\n",
       "      <td>1.064322e+07</td>\n",
       "      <td>3262.395352</td>\n",
       "      <td>1133.234640</td>\n",
       "      <td>0.103556</td>\n",
       "    </tr>\n",
       "  </tbody>\n",
       "</table>\n",
       "</div>"
      ],
      "text/plain": [
       "                     MSE         RMSE          MAE        R2\n",
       "train       1.162752e+07  3409.915657  1145.057381  0.165537\n",
       "validation  1.064322e+07  3262.395352  1133.234640  0.103556"
      ]
     },
     "execution_count": 15,
     "metadata": {},
     "output_type": "execute_result"
    }
   ],
   "source": [
    "result_regress(make_simple_linear(), Xs, Ys, 0)   "
   ]
  },
  {
   "cell_type": "code",
   "execution_count": 62,
   "metadata": {},
   "outputs": [
    {
     "data": {
      "text/html": [
       "<div>\n",
       "<style scoped>\n",
       "    .dataframe tbody tr th:only-of-type {\n",
       "        vertical-align: middle;\n",
       "    }\n",
       "\n",
       "    .dataframe tbody tr th {\n",
       "        vertical-align: top;\n",
       "    }\n",
       "\n",
       "    .dataframe thead th {\n",
       "        text-align: right;\n",
       "    }\n",
       "</style>\n",
       "<table border=\"1\" class=\"dataframe\">\n",
       "  <thead>\n",
       "    <tr style=\"text-align: right;\">\n",
       "      <th></th>\n",
       "      <th>MSE</th>\n",
       "      <th>RMSE</th>\n",
       "      <th>MAE</th>\n",
       "      <th>R2</th>\n",
       "    </tr>\n",
       "  </thead>\n",
       "  <tbody>\n",
       "    <tr>\n",
       "      <th>train</th>\n",
       "      <td>0.606281</td>\n",
       "      <td>0.778640</td>\n",
       "      <td>0.597537</td>\n",
       "      <td>0.293833</td>\n",
       "    </tr>\n",
       "    <tr>\n",
       "      <th>validation</th>\n",
       "      <td>0.591438</td>\n",
       "      <td>0.769050</td>\n",
       "      <td>0.589534</td>\n",
       "      <td>0.313375</td>\n",
       "    </tr>\n",
       "    <tr>\n",
       "      <th>test</th>\n",
       "      <td>0.618930</td>\n",
       "      <td>0.786721</td>\n",
       "      <td>0.605074</td>\n",
       "      <td>0.276769</td>\n",
       "    </tr>\n",
       "  </tbody>\n",
       "</table>\n",
       "</div>"
      ],
      "text/plain": [
       "                 MSE      RMSE       MAE        R2\n",
       "train       0.606281  0.778640  0.597537  0.293833\n",
       "validation  0.591438  0.769050  0.589534  0.313375\n",
       "test        0.618930  0.786721  0.605074  0.276769"
      ]
     },
     "execution_count": 62,
     "metadata": {},
     "output_type": "execute_result"
    }
   ],
   "source": [
    "target1 = result_regress(make_simple_linear(), Xs, Ys, 1)   \n",
    "target1"
   ]
  },
  {
   "cell_type": "code",
   "execution_count": 63,
   "metadata": {},
   "outputs": [
    {
     "data": {
      "text/html": [
       "<div>\n",
       "<style scoped>\n",
       "    .dataframe tbody tr th:only-of-type {\n",
       "        vertical-align: middle;\n",
       "    }\n",
       "\n",
       "    .dataframe tbody tr th {\n",
       "        vertical-align: top;\n",
       "    }\n",
       "\n",
       "    .dataframe thead th {\n",
       "        text-align: right;\n",
       "    }\n",
       "</style>\n",
       "<table border=\"1\" class=\"dataframe\">\n",
       "  <thead>\n",
       "    <tr style=\"text-align: right;\">\n",
       "      <th></th>\n",
       "      <th>MSE</th>\n",
       "      <th>RMSE</th>\n",
       "      <th>MAE</th>\n",
       "      <th>R2</th>\n",
       "    </tr>\n",
       "  </thead>\n",
       "  <tbody>\n",
       "    <tr>\n",
       "      <th>train</th>\n",
       "      <td>0.354064</td>\n",
       "      <td>0.595032</td>\n",
       "      <td>0.454576</td>\n",
       "      <td>0.484550</td>\n",
       "    </tr>\n",
       "    <tr>\n",
       "      <th>validation</th>\n",
       "      <td>0.332355</td>\n",
       "      <td>0.576502</td>\n",
       "      <td>0.438211</td>\n",
       "      <td>0.494751</td>\n",
       "    </tr>\n",
       "    <tr>\n",
       "      <th>test</th>\n",
       "      <td>0.347504</td>\n",
       "      <td>0.589494</td>\n",
       "      <td>0.453749</td>\n",
       "      <td>0.504061</td>\n",
       "    </tr>\n",
       "  </tbody>\n",
       "</table>\n",
       "</div>"
      ],
      "text/plain": [
       "                 MSE      RMSE       MAE        R2\n",
       "train       0.354064  0.595032  0.454576  0.484550\n",
       "validation  0.332355  0.576502  0.438211  0.494751\n",
       "test        0.347504  0.589494  0.453749  0.504061"
      ]
     },
     "execution_count": 63,
     "metadata": {},
     "output_type": "execute_result"
    }
   ],
   "source": [
    "target2 = result_regress(make_simple_linear(), Xs, Ys, 2)   \n",
    "target2"
   ]
  },
  {
   "cell_type": "code",
   "execution_count": 73,
   "metadata": {},
   "outputs": [
    {
     "data": {
      "text/html": [
       "<div>\n",
       "<style scoped>\n",
       "    .dataframe tbody tr th:only-of-type {\n",
       "        vertical-align: middle;\n",
       "    }\n",
       "\n",
       "    .dataframe tbody tr th {\n",
       "        vertical-align: top;\n",
       "    }\n",
       "\n",
       "    .dataframe thead th {\n",
       "        text-align: right;\n",
       "    }\n",
       "</style>\n",
       "<table border=\"1\" class=\"dataframe\">\n",
       "  <thead>\n",
       "    <tr style=\"text-align: right;\">\n",
       "      <th></th>\n",
       "      <th>MSE</th>\n",
       "      <th>RMSE</th>\n",
       "      <th>MAE</th>\n",
       "      <th>R2</th>\n",
       "    </tr>\n",
       "  </thead>\n",
       "  <tbody>\n",
       "    <tr>\n",
       "      <th>Rating</th>\n",
       "      <td>0.618930</td>\n",
       "      <td>0.786721</td>\n",
       "      <td>0.605074</td>\n",
       "      <td>0.276769</td>\n",
       "    </tr>\n",
       "    <tr>\n",
       "      <th>Complexity</th>\n",
       "      <td>0.347504</td>\n",
       "      <td>0.589494</td>\n",
       "      <td>0.453749</td>\n",
       "      <td>0.504061</td>\n",
       "    </tr>\n",
       "  </tbody>\n",
       "</table>\n",
       "</div>"
      ],
      "text/plain": [
       "                 MSE      RMSE       MAE        R2\n",
       "Rating      0.618930  0.786721  0.605074  0.276769\n",
       "Complexity  0.347504  0.589494  0.453749  0.504061"
      ]
     },
     "execution_count": 73,
     "metadata": {},
     "output_type": "execute_result"
    }
   ],
   "source": [
    "simple_test = pd.concat([target1.loc['test'], target2.loc['test']], axis=1).T\n",
    "simple_test.index=[\"Rating\", \"Complexity\"]\n",
    "simple_test"
   ]
  },
  {
   "cell_type": "code",
   "execution_count": 18,
   "metadata": {},
   "outputs": [
    {
     "data": {
      "text/html": [
       "<style>#sk-container-id-1 {color: black;background-color: white;}#sk-container-id-1 pre{padding: 0;}#sk-container-id-1 div.sk-toggleable {background-color: white;}#sk-container-id-1 label.sk-toggleable__label {cursor: pointer;display: block;width: 100%;margin-bottom: 0;padding: 0.3em;box-sizing: border-box;text-align: center;}#sk-container-id-1 label.sk-toggleable__label-arrow:before {content: \"▸\";float: left;margin-right: 0.25em;color: #696969;}#sk-container-id-1 label.sk-toggleable__label-arrow:hover:before {color: black;}#sk-container-id-1 div.sk-estimator:hover label.sk-toggleable__label-arrow:before {color: black;}#sk-container-id-1 div.sk-toggleable__content {max-height: 0;max-width: 0;overflow: hidden;text-align: left;background-color: #f0f8ff;}#sk-container-id-1 div.sk-toggleable__content pre {margin: 0.2em;color: black;border-radius: 0.25em;background-color: #f0f8ff;}#sk-container-id-1 input.sk-toggleable__control:checked~div.sk-toggleable__content {max-height: 200px;max-width: 100%;overflow: auto;}#sk-container-id-1 input.sk-toggleable__control:checked~label.sk-toggleable__label-arrow:before {content: \"▾\";}#sk-container-id-1 div.sk-estimator input.sk-toggleable__control:checked~label.sk-toggleable__label {background-color: #d4ebff;}#sk-container-id-1 div.sk-label input.sk-toggleable__control:checked~label.sk-toggleable__label {background-color: #d4ebff;}#sk-container-id-1 input.sk-hidden--visually {border: 0;clip: rect(1px 1px 1px 1px);clip: rect(1px, 1px, 1px, 1px);height: 1px;margin: -1px;overflow: hidden;padding: 0;position: absolute;width: 1px;}#sk-container-id-1 div.sk-estimator {font-family: monospace;background-color: #f0f8ff;border: 1px dotted black;border-radius: 0.25em;box-sizing: border-box;margin-bottom: 0.5em;}#sk-container-id-1 div.sk-estimator:hover {background-color: #d4ebff;}#sk-container-id-1 div.sk-parallel-item::after {content: \"\";width: 100%;border-bottom: 1px solid gray;flex-grow: 1;}#sk-container-id-1 div.sk-label:hover label.sk-toggleable__label {background-color: #d4ebff;}#sk-container-id-1 div.sk-serial::before {content: \"\";position: absolute;border-left: 1px solid gray;box-sizing: border-box;top: 0;bottom: 0;left: 50%;z-index: 0;}#sk-container-id-1 div.sk-serial {display: flex;flex-direction: column;align-items: center;background-color: white;padding-right: 0.2em;padding-left: 0.2em;position: relative;}#sk-container-id-1 div.sk-item {position: relative;z-index: 1;}#sk-container-id-1 div.sk-parallel {display: flex;align-items: stretch;justify-content: center;background-color: white;position: relative;}#sk-container-id-1 div.sk-item::before, #sk-container-id-1 div.sk-parallel-item::before {content: \"\";position: absolute;border-left: 1px solid gray;box-sizing: border-box;top: 0;bottom: 0;left: 50%;z-index: -1;}#sk-container-id-1 div.sk-parallel-item {display: flex;flex-direction: column;z-index: 1;position: relative;background-color: white;}#sk-container-id-1 div.sk-parallel-item:first-child::after {align-self: flex-end;width: 50%;}#sk-container-id-1 div.sk-parallel-item:last-child::after {align-self: flex-start;width: 50%;}#sk-container-id-1 div.sk-parallel-item:only-child::after {width: 0;}#sk-container-id-1 div.sk-dashed-wrapped {border: 1px dashed gray;margin: 0 0.4em 0.5em 0.4em;box-sizing: border-box;padding-bottom: 0.4em;background-color: white;}#sk-container-id-1 div.sk-label label {font-family: monospace;font-weight: bold;display: inline-block;line-height: 1.2em;}#sk-container-id-1 div.sk-label-container {text-align: center;}#sk-container-id-1 div.sk-container {/* jupyter's `normalize.less` sets `[hidden] { display: none; }` but bootstrap.min.css set `[hidden] { display: none !important; }` so we also need the `!important` here to be able to override the default hidden behavior on the sphinx rendered scikit-learn.org. See: https://github.com/scikit-learn/scikit-learn/issues/21755 */display: inline-block !important;position: relative;}#sk-container-id-1 div.sk-text-repr-fallback {display: none;}</style><div id=\"sk-container-id-1\" class=\"sk-top-container\"><div class=\"sk-text-repr-fallback\"><pre>Pipeline(steps=[(&#x27;selectkbest&#x27;,\n",
       "                 SelectKBest(score_func=&lt;function f_regression at 0x0000021682C0C670&gt;)),\n",
       "                (&#x27;linearregression&#x27;, LinearRegression())])</pre><b>In a Jupyter environment, please rerun this cell to show the HTML representation or trust the notebook. <br />On GitHub, the HTML representation is unable to render, please try loading this page with nbviewer.org.</b></div><div class=\"sk-container\" hidden><div class=\"sk-item sk-dashed-wrapped\"><div class=\"sk-label-container\"><div class=\"sk-label sk-toggleable\"><input class=\"sk-toggleable__control sk-hidden--visually\" id=\"sk-estimator-id-1\" type=\"checkbox\" ><label for=\"sk-estimator-id-1\" class=\"sk-toggleable__label sk-toggleable__label-arrow\">Pipeline</label><div class=\"sk-toggleable__content\"><pre>Pipeline(steps=[(&#x27;selectkbest&#x27;,\n",
       "                 SelectKBest(score_func=&lt;function f_regression at 0x0000021682C0C670&gt;)),\n",
       "                (&#x27;linearregression&#x27;, LinearRegression())])</pre></div></div></div><div class=\"sk-serial\"><div class=\"sk-item\"><div class=\"sk-estimator sk-toggleable\"><input class=\"sk-toggleable__control sk-hidden--visually\" id=\"sk-estimator-id-2\" type=\"checkbox\" ><label for=\"sk-estimator-id-2\" class=\"sk-toggleable__label sk-toggleable__label-arrow\">SelectKBest</label><div class=\"sk-toggleable__content\"><pre>SelectKBest(score_func=&lt;function f_regression at 0x0000021682C0C670&gt;)</pre></div></div></div><div class=\"sk-item\"><div class=\"sk-estimator sk-toggleable\"><input class=\"sk-toggleable__control sk-hidden--visually\" id=\"sk-estimator-id-3\" type=\"checkbox\" ><label for=\"sk-estimator-id-3\" class=\"sk-toggleable__label sk-toggleable__label-arrow\">LinearRegression</label><div class=\"sk-toggleable__content\"><pre>LinearRegression()</pre></div></div></div></div></div></div></div>"
      ],
      "text/plain": [
       "Pipeline(steps=[('selectkbest',\n",
       "                 SelectKBest(score_func=<function f_regression at 0x0000021682C0C670>)),\n",
       "                ('linearregression', LinearRegression())])"
      ]
     },
     "execution_count": 18,
     "metadata": {},
     "output_type": "execute_result"
    }
   ],
   "source": [
    "make_simple_linear()"
   ]
  },
  {
   "cell_type": "code",
   "execution_count": 19,
   "metadata": {},
   "outputs": [],
   "source": [
    "\n",
    "from sklearn.model_selection import GridSearchCV\n",
    "\n",
    "def find_best_k(df, results=False):\n",
    "    params = {\n",
    "        \n",
    "        'selectkbest__k' : [10, 20, 30, 40, 50, 60, 70, 80, 90, 100, 110, 120, 130, 140, 150]\n",
    "        \n",
    "    }\n",
    "    Xs, Ys, target_list = get_Xs_Ys(df, [\"Users_rated\", \"Rating\", \"Complexity\"], [\"Sug_players\", \"Sug_age\", \"Language_dependence\", \"Own\"], use_val=False)\n",
    "\n",
    "    scaler = StandardScaler()\n",
    "    \n",
    "    x_train = pd.DataFrame(scaler.fit_transform(Xs['train']), columns=Xs['train'].columns)\n",
    "    \n",
    "    grid_searchs = []\n",
    "\n",
    "    for i in tqdm(range(len(target_list))):\n",
    "        grid_search = GridSearchCV(make_simple_linear(), param_grid=params, scoring=\"r2\", cv=5, verbose=1)\n",
    "        grid_search.fit(x_train, Ys['train'].iloc[:, i])\n",
    "\n",
    "        grid_searchs.append(grid_search)\n",
    "        print(f\"Target : {target_list[i]}\")\n",
    "        print(\"Best parameter: \", grid_search.best_params_)\n",
    "        print(\"Best R2 Score: \", grid_search.best_score_)\n",
    "    \n",
    "    if results:\n",
    "        return grid_searchs, scaler"
   ]
  },
  {
   "cell_type": "code",
   "execution_count": 20,
   "metadata": {},
   "outputs": [
    {
     "data": {
      "application/vnd.jupyter.widget-view+json": {
       "model_id": "a5204de665bb4a62853da632f20ddb3c",
       "version_major": 2,
       "version_minor": 0
      },
      "text/plain": [
       "  0%|          | 0/3 [00:00<?, ?it/s]"
      ]
     },
     "metadata": {},
     "output_type": "display_data"
    },
    {
     "name": "stdout",
     "output_type": "stream",
     "text": [
      "Fitting 5 folds for each of 15 candidates, totalling 75 fits\n",
      "Target : Users_rated\n",
      "Best parameter:  {'selectkbest__k': 150}\n",
      "Best R2 Score:  0.18866101011297445\n",
      "Fitting 5 folds for each of 15 candidates, totalling 75 fits\n",
      "Target : Rating\n",
      "Best parameter:  {'selectkbest__k': 150}\n",
      "Best R2 Score:  0.3683069909599011\n",
      "Fitting 5 folds for each of 15 candidates, totalling 75 fits\n",
      "Target : Complexity\n",
      "Best parameter:  {'selectkbest__k': 140}\n",
      "Best R2 Score:  0.6013729930439119\n"
     ]
    }
   ],
   "source": [
    "find_best_k(df) # with no enginering"
   ]
  },
  {
   "cell_type": "code",
   "execution_count": 21,
   "metadata": {},
   "outputs": [
    {
     "data": {
      "application/vnd.jupyter.widget-view+json": {
       "model_id": "391ed10318394d6daddfc4ed890ef366",
       "version_major": 2,
       "version_minor": 0
      },
      "text/plain": [
       "  0%|          | 0/3 [00:00<?, ?it/s]"
      ]
     },
     "metadata": {},
     "output_type": "display_data"
    },
    {
     "name": "stdout",
     "output_type": "stream",
     "text": [
      "Fitting 5 folds for each of 15 candidates, totalling 75 fits\n",
      "Target : Users_rated\n",
      "Best parameter:  {'selectkbest__k': 150}\n",
      "Best R2 Score:  0.1936807997224337\n",
      "Fitting 5 folds for each of 15 candidates, totalling 75 fits\n",
      "Target : Rating\n",
      "Best parameter:  {'selectkbest__k': 150}\n",
      "Best R2 Score:  0.39085518008709574\n",
      "Fitting 5 folds for each of 15 candidates, totalling 75 fits\n",
      "Target : Complexity\n",
      "Best parameter:  {'selectkbest__k': 140}\n",
      "Best R2 Score:  0.6061799210222591\n"
     ]
    }
   ],
   "source": [
    "find_best_k(df_v1) # with engineering"
   ]
  },
  {
   "cell_type": "code",
   "execution_count": 22,
   "metadata": {},
   "outputs": [
    {
     "data": {
      "application/vnd.jupyter.widget-view+json": {
       "model_id": "f1bc1339fcab4acf9467127578abe304",
       "version_major": 2,
       "version_minor": 0
      },
      "text/plain": [
       "  0%|          | 0/3 [00:00<?, ?it/s]"
      ]
     },
     "metadata": {},
     "output_type": "display_data"
    },
    {
     "name": "stdout",
     "output_type": "stream",
     "text": [
      "Fitting 5 folds for each of 15 candidates, totalling 75 fits\n",
      "Target : Users_rated\n",
      "Best parameter:  {'selectkbest__k': 150}\n",
      "Best R2 Score:  0.19051308387083404\n",
      "Fitting 5 folds for each of 15 candidates, totalling 75 fits\n",
      "Target : Rating\n",
      "Best parameter:  {'selectkbest__k': 150}\n",
      "Best R2 Score:  0.4052769115551394\n",
      "Fitting 5 folds for each of 15 candidates, totalling 75 fits\n",
      "Target : Complexity\n",
      "Best parameter:  {'selectkbest__k': 150}\n",
      "Best R2 Score:  0.6152704773680252\n"
     ]
    }
   ],
   "source": [
    "find_best_k(df_v2) # with engineering"
   ]
  },
  {
   "cell_type": "code",
   "execution_count": 23,
   "metadata": {},
   "outputs": [
    {
     "data": {
      "application/vnd.jupyter.widget-view+json": {
       "model_id": "04ef78672fba43198d483b25134e9c75",
       "version_major": 2,
       "version_minor": 0
      },
      "text/plain": [
       "  0%|          | 0/3 [00:00<?, ?it/s]"
      ]
     },
     "metadata": {},
     "output_type": "display_data"
    },
    {
     "name": "stdout",
     "output_type": "stream",
     "text": [
      "Fitting 5 folds for each of 15 candidates, totalling 75 fits\n",
      "Target : Users_rated\n",
      "Best parameter:  {'selectkbest__k': 150}\n",
      "Best R2 Score:  0.18382770306630755\n",
      "Fitting 5 folds for each of 15 candidates, totalling 75 fits\n",
      "Target : Rating\n",
      "Best parameter:  {'selectkbest__k': 150}\n",
      "Best R2 Score:  0.4058735846707776\n",
      "Fitting 5 folds for each of 15 candidates, totalling 75 fits\n",
      "Target : Complexity\n",
      "Best parameter:  {'selectkbest__k': 140}\n",
      "Best R2 Score:  0.6154452453177555\n"
     ]
    }
   ],
   "source": [
    "linear_model, scaler_v3 = find_best_k(df_v3, results=True) # with engineering"
   ]
  },
  {
   "cell_type": "code",
   "execution_count": 24,
   "metadata": {},
   "outputs": [],
   "source": [
    "def test_eval(x_test, y_test, model, target_list, scaler = None):\n",
    "    \n",
    "    if scaler is not None:\n",
    "        x_test = x_test.copy()\n",
    "        x_test = scaler.transform(x_test)\n",
    "        x_test = pd.DataFrame(x_test, columns = Xs['test'].columns)\n",
    "    \n",
    "    eval_tests = []\n",
    "    for i in range(len(target_list)):\n",
    "\n",
    "        eval_test = eval_models(model[i].predict(x_test), Ys['test'][target_list[i]])\n",
    "        eval_tests.append(eval_test)\n",
    "\n",
    "    return pd.DataFrame(eval_tests, index=target_list, columns=[\"MSE\", \"RMSE\", \"MAE\", \"R2\"])"
   ]
  },
  {
   "cell_type": "code",
   "execution_count": 25,
   "metadata": {},
   "outputs": [],
   "source": [
    "Xs, Ys, target_list = get_Xs_Ys(df_v3, [\"Users_rated\", \"Rating\", \"Complexity\"], [\"Sug_players\", \"Sug_age\", \"Language_dependence\", \"Own\"], use_val=False)"
   ]
  },
  {
   "cell_type": "code",
   "execution_count": 26,
   "metadata": {},
   "outputs": [],
   "source": [
    "simple_linear_test_eval = test_eval(Xs['test'], Ys['test'], linear_model, target_list, scaler = scaler_v3)"
   ]
  },
  {
   "cell_type": "code",
   "execution_count": 27,
   "metadata": {},
   "outputs": [
    {
     "data": {
      "text/html": [
       "<div>\n",
       "<style scoped>\n",
       "    .dataframe tbody tr th:only-of-type {\n",
       "        vertical-align: middle;\n",
       "    }\n",
       "\n",
       "    .dataframe tbody tr th {\n",
       "        vertical-align: top;\n",
       "    }\n",
       "\n",
       "    .dataframe thead th {\n",
       "        text-align: right;\n",
       "    }\n",
       "</style>\n",
       "<table border=\"1\" class=\"dataframe\">\n",
       "  <thead>\n",
       "    <tr style=\"text-align: right;\">\n",
       "      <th></th>\n",
       "      <th>MSE</th>\n",
       "      <th>RMSE</th>\n",
       "      <th>MAE</th>\n",
       "      <th>R2</th>\n",
       "    </tr>\n",
       "  </thead>\n",
       "  <tbody>\n",
       "    <tr>\n",
       "      <th>Users_rated</th>\n",
       "      <td>8.990830e+06</td>\n",
       "      <td>2998.471218</td>\n",
       "      <td>1106.675445</td>\n",
       "      <td>0.208177</td>\n",
       "    </tr>\n",
       "    <tr>\n",
       "      <th>Rating</th>\n",
       "      <td>5.257300e-01</td>\n",
       "      <td>0.725072</td>\n",
       "      <td>0.540702</td>\n",
       "      <td>0.361526</td>\n",
       "    </tr>\n",
       "    <tr>\n",
       "      <th>Complexity</th>\n",
       "      <td>2.781551e-01</td>\n",
       "      <td>0.527404</td>\n",
       "      <td>0.375051</td>\n",
       "      <td>0.596543</td>\n",
       "    </tr>\n",
       "  </tbody>\n",
       "</table>\n",
       "</div>"
      ],
      "text/plain": [
       "                      MSE         RMSE          MAE        R2\n",
       "Users_rated  8.990830e+06  2998.471218  1106.675445  0.208177\n",
       "Rating       5.257300e-01     0.725072     0.540702  0.361526\n",
       "Complexity   2.781551e-01     0.527404     0.375051  0.596543"
      ]
     },
     "execution_count": 27,
     "metadata": {},
     "output_type": "execute_result"
    }
   ],
   "source": [
    "simple_linear_test_eval"
   ]
  },
  {
   "cell_type": "code",
   "execution_count": 28,
   "metadata": {},
   "outputs": [
    {
     "data": {
      "image/png": "[encoded data removed]",
      "text/plain": [
       "<Figure size 600x1500 with 1 Axes>"
      ]
     },
     "metadata": {},
     "output_type": "display_data"
    }
   ],
   "source": [
    "# check last model about Complexity\n",
    "plt.rcParams['font.family'] = 'Malgun Gothic'\n",
    "coef_ = pd.Series(linear_model[2].best_estimator_['linearregression'].coef_,\n",
    "          index = linear_model[2].best_estimator_['selectkbest'].get_feature_names_out()).sort_values(ascending=False)\n",
    "coef_[:8].sort_values().plot.barh(figsize=(6, 15))\n",
    "plt.show()"
   ]
  },
  {
   "cell_type": "code",
   "execution_count": 29,
   "metadata": {},
   "outputs": [
    {
     "data": {
      "image/png": "[encoded data removed]",
      "text/plain": [
       "<Figure size 1200x300 with 1 Axes>"
      ]
     },
     "metadata": {},
     "output_type": "display_data"
    }
   ],
   "source": [
    "# 엄청나게 비대칭적인 계수 현황\n",
    "sns.set(rc={'figure.figsize':(12, 3)})\n",
    "ax = sns.boxplot(x=coef_)\n",
    "ax.set(xlabel='coefficient')\n",
    "plt.show()"
   ]
  },
  {
   "cell_type": "markdown",
   "metadata": {},
   "source": [
    "2. 1. regression with y = $\\frac{C}{f(X)}$"
   ]
  },
  {
   "cell_type": "code",
   "execution_count": 30,
   "metadata": {},
   "outputs": [],
   "source": [
    "def find_best_k_inverse(df, c=1e+6, results=False):\n",
    "    params = {\n",
    "        \n",
    "        'selectkbest__k' : [10, 20, 30, 40, 50, 60, 70, 80, 90, 100, 110, 120, 130, 140, 150]\n",
    "        \n",
    "    }\n",
    "    Xs, Ys, target_list = get_Xs_Ys(df, [\"Users_rated\"], [\"Sug_players\", \"Sug_age\", \"Language_dependence\", \"Own\", \"Rating\", \"Complexity\"], use_val=False)\n",
    "\n",
    "    scaler = StandardScaler()\n",
    "    \n",
    "    x_train = pd.DataFrame(scaler.fit_transform(Xs['train']), columns=Xs['train'].columns)\n",
    "    \n",
    "    grid_searchs = []\n",
    "\n",
    "    for i in tqdm(range(len(target_list))):\n",
    "        grid_search = GridSearchCV(make_simple_linear(), param_grid=params, scoring=\"r2\", cv=5, verbose=1)\n",
    "        grid_search.fit(x_train, c/Ys['train'].iloc[:, i])\n",
    "\n",
    "        grid_searchs.append(grid_search)\n",
    "        print(f\"Target : {target_list[i]}\")\n",
    "        print(\"Best parameter: \", grid_search.best_params_)\n",
    "        print(\"Best R2 Score: \", grid_search.best_score_)\n",
    "    \n",
    "    if results:\n",
    "        return grid_searchs, scaler"
   ]
  },
  {
   "cell_type": "code",
   "execution_count": 31,
   "metadata": {},
   "outputs": [
    {
     "data": {
      "application/vnd.jupyter.widget-view+json": {
       "model_id": "973b3cb1087b444ebc63d8653d3b8182",
       "version_major": 2,
       "version_minor": 0
      },
      "text/plain": [
       "0it [00:00, ?it/s]"
      ]
     },
     "metadata": {},
     "output_type": "display_data"
    },
    {
     "name": "stdout",
     "output_type": "stream",
     "text": [
      "df_v[0] : "
     ]
    },
    {
     "data": {
      "application/vnd.jupyter.widget-view+json": {
       "model_id": "e331e1340a304f7ba7e4cb96509a3327",
       "version_major": 2,
       "version_minor": 0
      },
      "text/plain": [
       "  0%|          | 0/1 [00:00<?, ?it/s]"
      ]
     },
     "metadata": {},
     "output_type": "display_data"
    },
    {
     "name": "stdout",
     "output_type": "stream",
     "text": [
      "Fitting 5 folds for each of 15 candidates, totalling 75 fits\n",
      "Target : Users_rated\n",
      "Best parameter:  {'selectkbest__k': 140}\n",
      "Best R2 Score:  0.30964822772080913\n",
      "df_v[1] : "
     ]
    },
    {
     "data": {
      "application/vnd.jupyter.widget-view+json": {
       "model_id": "98d40e86ea4a44d386c945c7141f32b2",
       "version_major": 2,
       "version_minor": 0
      },
      "text/plain": [
       "  0%|          | 0/1 [00:00<?, ?it/s]"
      ]
     },
     "metadata": {},
     "output_type": "display_data"
    },
    {
     "name": "stdout",
     "output_type": "stream",
     "text": [
      "Fitting 5 folds for each of 15 candidates, totalling 75 fits\n",
      "Target : Users_rated\n",
      "Best parameter:  {'selectkbest__k': 130}\n",
      "Best R2 Score:  0.3092608754764505\n",
      "df_v[2] : "
     ]
    },
    {
     "data": {
      "application/vnd.jupyter.widget-view+json": {
       "model_id": "c225c4fe0fb941a4a9565619fab1cd47",
       "version_major": 2,
       "version_minor": 0
      },
      "text/plain": [
       "  0%|          | 0/1 [00:00<?, ?it/s]"
      ]
     },
     "metadata": {},
     "output_type": "display_data"
    },
    {
     "name": "stdout",
     "output_type": "stream",
     "text": [
      "Fitting 5 folds for each of 15 candidates, totalling 75 fits\n",
      "Target : Users_rated\n",
      "Best parameter:  {'selectkbest__k': 150}\n",
      "Best R2 Score:  0.3032699643435393\n",
      "df_v[3] : "
     ]
    },
    {
     "data": {
      "application/vnd.jupyter.widget-view+json": {
       "model_id": "8ef591cc49a64fcfa4f13911360ffb54",
       "version_major": 2,
       "version_minor": 0
      },
      "text/plain": [
       "  0%|          | 0/1 [00:00<?, ?it/s]"
      ]
     },
     "metadata": {},
     "output_type": "display_data"
    },
    {
     "name": "stdout",
     "output_type": "stream",
     "text": [
      "Fitting 5 folds for each of 15 candidates, totalling 75 fits\n",
      "Target : Users_rated\n",
      "Best parameter:  {'selectkbest__k': 150}\n",
      "Best R2 Score:  0.30556552014577215\n",
      "df_v[4] : "
     ]
    },
    {
     "data": {
      "application/vnd.jupyter.widget-view+json": {
       "model_id": "98a68ace9bb843328cc52ef1df3aa6dd",
       "version_major": 2,
       "version_minor": 0
      },
      "text/plain": [
       "  0%|          | 0/1 [00:00<?, ?it/s]"
      ]
     },
     "metadata": {},
     "output_type": "display_data"
    },
    {
     "name": "stdout",
     "output_type": "stream",
     "text": [
      "Fitting 5 folds for each of 15 candidates, totalling 75 fits\n",
      "Target : Users_rated\n",
      "Best parameter:  {'selectkbest__k': 150}\n",
      "Best R2 Score:  0.30414919159806664\n"
     ]
    }
   ],
   "source": [
    "dataset = [df, df_v1, df_v2, df_v3, df_v4]\n",
    "\n",
    "for i, data in tqdm(enumerate(dataset)):\n",
    "    print(f\"df_v[{i}] : \" ,end=\"\")\n",
    "    find_best_k_inverse(data, c=1e+5) # with no enginering\n"
   ]
  },
  {
   "cell_type": "markdown",
   "metadata": {},
   "source": [
    "3. Linear Regression with Ridge Regularization"
   ]
  },
  {
   "cell_type": "code",
   "execution_count": 32,
   "metadata": {},
   "outputs": [],
   "source": [
    "from sklearn.linear_model import Ridge\n",
    "from sklearn.model_selection import RandomizedSearchCV"
   ]
  },
  {
   "cell_type": "code",
   "execution_count": 33,
   "metadata": {},
   "outputs": [
    {
     "data": {
      "text/html": [
       "<style>#sk-container-id-2 {color: black;background-color: white;}#sk-container-id-2 pre{padding: 0;}#sk-container-id-2 div.sk-toggleable {background-color: white;}#sk-container-id-2 label.sk-toggleable__label {cursor: pointer;display: block;width: 100%;margin-bottom: 0;padding: 0.3em;box-sizing: border-box;text-align: center;}#sk-container-id-2 label.sk-toggleable__label-arrow:before {content: \"▸\";float: left;margin-right: 0.25em;color: #696969;}#sk-container-id-2 label.sk-toggleable__label-arrow:hover:before {color: black;}#sk-container-id-2 div.sk-estimator:hover label.sk-toggleable__label-arrow:before {color: black;}#sk-container-id-2 div.sk-toggleable__content {max-height: 0;max-width: 0;overflow: hidden;text-align: left;background-color: #f0f8ff;}#sk-container-id-2 div.sk-toggleable__content pre {margin: 0.2em;color: black;border-radius: 0.25em;background-color: #f0f8ff;}#sk-container-id-2 input.sk-toggleable__control:checked~div.sk-toggleable__content {max-height: 200px;max-width: 100%;overflow: auto;}#sk-container-id-2 input.sk-toggleable__control:checked~label.sk-toggleable__label-arrow:before {content: \"▾\";}#sk-container-id-2 div.sk-estimator input.sk-toggleable__control:checked~label.sk-toggleable__label {background-color: #d4ebff;}#sk-container-id-2 div.sk-label input.sk-toggleable__control:checked~label.sk-toggleable__label {background-color: #d4ebff;}#sk-container-id-2 input.sk-hidden--visually {border: 0;clip: rect(1px 1px 1px 1px);clip: rect(1px, 1px, 1px, 1px);height: 1px;margin: -1px;overflow: hidden;padding: 0;position: absolute;width: 1px;}#sk-container-id-2 div.sk-estimator {font-family: monospace;background-color: #f0f8ff;border: 1px dotted black;border-radius: 0.25em;box-sizing: border-box;margin-bottom: 0.5em;}#sk-container-id-2 div.sk-estimator:hover {background-color: #d4ebff;}#sk-container-id-2 div.sk-parallel-item::after {content: \"\";width: 100%;border-bottom: 1px solid gray;flex-grow: 1;}#sk-container-id-2 div.sk-label:hover label.sk-toggleable__label {background-color: #d4ebff;}#sk-container-id-2 div.sk-serial::before {content: \"\";position: absolute;border-left: 1px solid gray;box-sizing: border-box;top: 0;bottom: 0;left: 50%;z-index: 0;}#sk-container-id-2 div.sk-serial {display: flex;flex-direction: column;align-items: center;background-color: white;padding-right: 0.2em;padding-left: 0.2em;position: relative;}#sk-container-id-2 div.sk-item {position: relative;z-index: 1;}#sk-container-id-2 div.sk-parallel {display: flex;align-items: stretch;justify-content: center;background-color: white;position: relative;}#sk-container-id-2 div.sk-item::before, #sk-container-id-2 div.sk-parallel-item::before {content: \"\";position: absolute;border-left: 1px solid gray;box-sizing: border-box;top: 0;bottom: 0;left: 50%;z-index: -1;}#sk-container-id-2 div.sk-parallel-item {display: flex;flex-direction: column;z-index: 1;position: relative;background-color: white;}#sk-container-id-2 div.sk-parallel-item:first-child::after {align-self: flex-end;width: 50%;}#sk-container-id-2 div.sk-parallel-item:last-child::after {align-self: flex-start;width: 50%;}#sk-container-id-2 div.sk-parallel-item:only-child::after {width: 0;}#sk-container-id-2 div.sk-dashed-wrapped {border: 1px dashed gray;margin: 0 0.4em 0.5em 0.4em;box-sizing: border-box;padding-bottom: 0.4em;background-color: white;}#sk-container-id-2 div.sk-label label {font-family: monospace;font-weight: bold;display: inline-block;line-height: 1.2em;}#sk-container-id-2 div.sk-label-container {text-align: center;}#sk-container-id-2 div.sk-container {/* jupyter's `normalize.less` sets `[hidden] { display: none; }` but bootstrap.min.css set `[hidden] { display: none !important; }` so we also need the `!important` here to be able to override the default hidden behavior on the sphinx rendered scikit-learn.org. See: https://github.com/scikit-learn/scikit-learn/issues/21755 */display: inline-block !important;position: relative;}#sk-container-id-2 div.sk-text-repr-fallback {display: none;}</style><div id=\"sk-container-id-2\" class=\"sk-top-container\"><div class=\"sk-text-repr-fallback\"><pre>Pipeline(steps=[(&#x27;selectkbest&#x27;,\n",
       "                 SelectKBest(score_func=&lt;function f_regression at 0x0000021682C0C670&gt;)),\n",
       "                (&#x27;ridge&#x27;, Ridge(random_state=42))])</pre><b>In a Jupyter environment, please rerun this cell to show the HTML representation or trust the notebook. <br />On GitHub, the HTML representation is unable to render, please try loading this page with nbviewer.org.</b></div><div class=\"sk-container\" hidden><div class=\"sk-item sk-dashed-wrapped\"><div class=\"sk-label-container\"><div class=\"sk-label sk-toggleable\"><input class=\"sk-toggleable__control sk-hidden--visually\" id=\"sk-estimator-id-4\" type=\"checkbox\" ><label for=\"sk-estimator-id-4\" class=\"sk-toggleable__label sk-toggleable__label-arrow\">Pipeline</label><div class=\"sk-toggleable__content\"><pre>Pipeline(steps=[(&#x27;selectkbest&#x27;,\n",
       "                 SelectKBest(score_func=&lt;function f_regression at 0x0000021682C0C670&gt;)),\n",
       "                (&#x27;ridge&#x27;, Ridge(random_state=42))])</pre></div></div></div><div class=\"sk-serial\"><div class=\"sk-item\"><div class=\"sk-estimator sk-toggleable\"><input class=\"sk-toggleable__control sk-hidden--visually\" id=\"sk-estimator-id-5\" type=\"checkbox\" ><label for=\"sk-estimator-id-5\" class=\"sk-toggleable__label sk-toggleable__label-arrow\">SelectKBest</label><div class=\"sk-toggleable__content\"><pre>SelectKBest(score_func=&lt;function f_regression at 0x0000021682C0C670&gt;)</pre></div></div></div><div class=\"sk-item\"><div class=\"sk-estimator sk-toggleable\"><input class=\"sk-toggleable__control sk-hidden--visually\" id=\"sk-estimator-id-6\" type=\"checkbox\" ><label for=\"sk-estimator-id-6\" class=\"sk-toggleable__label sk-toggleable__label-arrow\">Ridge</label><div class=\"sk-toggleable__content\"><pre>Ridge(random_state=42)</pre></div></div></div></div></div></div></div>"
      ],
      "text/plain": [
       "Pipeline(steps=[('selectkbest',\n",
       "                 SelectKBest(score_func=<function f_regression at 0x0000021682C0C670>)),\n",
       "                ('ridge', Ridge(random_state=42))])"
      ]
     },
     "execution_count": 33,
     "metadata": {},
     "output_type": "execute_result"
    }
   ],
   "source": [
    "def make_ridge(sk_args= {}, rd_args = {}):\n",
    "    return make_pipeline(\n",
    "        SelectKBest(score_func=f_regression),\n",
    "        Ridge(**rd_args, random_state=random_state),\n",
    "    )\n",
    "make_ridge()"
   ]
  },
  {
   "cell_type": "code",
   "execution_count": 34,
   "metadata": {},
   "outputs": [],
   "source": [
    "def find_best_param_randomly(df, results=False):\n",
    "    params = {\n",
    "        'selectkbest__k' : [10, 20, 30, 40, 50, 60, 70, 80, 90, 100, 110, 120, 130, 140, 150],\n",
    "        'ridge__alpha' : np.random.uniform(1e-4, 1e+5, 100)\n",
    "    }\n",
    "    Xs, Ys, target_list = get_Xs_Ys(df, [\"Users_rated\", \"Rating\", \"Complexity\"], [\"Sug_players\", \"Sug_age\", \"Language_dependence\", \"Own\"], use_val=False)\n",
    "\n",
    "    scaler = StandardScaler()\n",
    "    \n",
    "    x_train = pd.DataFrame(scaler.fit_transform(Xs['train']), columns=Xs['train'].columns)\n",
    "\n",
    "    random_searchs = []\n",
    "    \n",
    "    for i in tqdm(range(len(target_list))):\n",
    "        random_search = RandomizedSearchCV(make_ridge(), params, n_iter = 100,\n",
    "                                           n_jobs=-1, random_state=random_state, cv=5)\n",
    "        random_search.fit(x_train, Ys['train'].iloc[:, i])\n",
    "        \n",
    "        random_searchs.append(random_search)\n",
    "        print(f\"Target : {target_list[i]}\")\n",
    "        print(\"Best parameter: \", random_search.best_params_)\n",
    "        print(\"Best R2 Score: \", random_search.best_score_)\n",
    "    \n",
    "    if results:\n",
    "        return random_searchs, scaler"
   ]
  },
  {
   "cell_type": "code",
   "execution_count": 35,
   "metadata": {},
   "outputs": [
    {
     "data": {
      "application/vnd.jupyter.widget-view+json": {
       "model_id": "93b8c31e8e184290a2f6154909afaa37",
       "version_major": 2,
       "version_minor": 0
      },
      "text/plain": [
       "  0%|          | 0/3 [00:00<?, ?it/s]"
      ]
     },
     "metadata": {},
     "output_type": "display_data"
    },
    {
     "name": "stdout",
     "output_type": "stream",
     "text": [
      "Target : Users_rated\n",
      "Best parameter:  {'selectkbest__k': 130, 'ridge__alpha': 1060.539455047686}\n",
      "Best R2 Score:  0.1761934322321803\n",
      "Target : Rating\n",
      "Best parameter:  {'selectkbest__k': 130, 'ridge__alpha': 1060.539455047686}\n",
      "Best R2 Score:  0.36313946063740205\n",
      "Target : Complexity\n",
      "Best parameter:  {'selectkbest__k': 130, 'ridge__alpha': 1060.539455047686}\n",
      "Best R2 Score:  0.600623193158019\n"
     ]
    }
   ],
   "source": [
    "find_best_param_randomly(df) # with no engineering"
   ]
  },
  {
   "cell_type": "code",
   "execution_count": 36,
   "metadata": {},
   "outputs": [
    {
     "data": {
      "application/vnd.jupyter.widget-view+json": {
       "model_id": "50a0d970882248f48acbac8b3ffba745",
       "version_major": 2,
       "version_minor": 0
      },
      "text/plain": [
       "  0%|          | 0/3 [00:00<?, ?it/s]"
      ]
     },
     "metadata": {},
     "output_type": "display_data"
    },
    {
     "name": "stdout",
     "output_type": "stream",
     "text": [
      "Target : Users_rated\n",
      "Best parameter:  {'selectkbest__k': 80, 'ridge__alpha': 1314.759438937932}\n",
      "Best R2 Score:  0.17420241051605606\n",
      "Target : Rating\n",
      "Best parameter:  {'selectkbest__k': 80, 'ridge__alpha': 1314.759438937932}\n",
      "Best R2 Score:  0.37864851808402655\n",
      "Target : Complexity\n",
      "Best parameter:  {'selectkbest__k': 80, 'ridge__alpha': 1314.759438937932}\n",
      "Best R2 Score:  0.5974209527270515\n"
     ]
    }
   ],
   "source": [
    "find_best_param_randomly(df_v1) # with engineering"
   ]
  },
  {
   "cell_type": "code",
   "execution_count": 37,
   "metadata": {},
   "outputs": [
    {
     "data": {
      "application/vnd.jupyter.widget-view+json": {
       "model_id": "1fe7af98526449828f9deb4437569de9",
       "version_major": 2,
       "version_minor": 0
      },
      "text/plain": [
       "  0%|          | 0/3 [00:00<?, ?it/s]"
      ]
     },
     "metadata": {},
     "output_type": "display_data"
    },
    {
     "name": "stdout",
     "output_type": "stream",
     "text": [
      "Target : Users_rated\n",
      "Best parameter:  {'selectkbest__k': 120, 'ridge__alpha': 742.569177148595}\n",
      "Best R2 Score:  0.1701831014820499\n",
      "Target : Rating\n",
      "Best parameter:  {'selectkbest__k': 120, 'ridge__alpha': 742.569177148595}\n",
      "Best R2 Score:  0.39920325548684477\n",
      "Target : Complexity\n",
      "Best parameter:  {'selectkbest__k': 120, 'ridge__alpha': 742.569177148595}\n",
      "Best R2 Score:  0.6149307681452675\n"
     ]
    }
   ],
   "source": [
    "ridge_model, scaler_v2 = find_best_param_randomly(df_v2, results=True) # with engineering"
   ]
  },
  {
   "cell_type": "code",
   "execution_count": 38,
   "metadata": {},
   "outputs": [
    {
     "data": {
      "application/vnd.jupyter.widget-view+json": {
       "model_id": "8036e83c62724aca8732ed92e93a7d9e",
       "version_major": 2,
       "version_minor": 0
      },
      "text/plain": [
       "  0%|          | 0/3 [00:00<?, ?it/s]"
      ]
     },
     "metadata": {},
     "output_type": "display_data"
    },
    {
     "name": "stdout",
     "output_type": "stream",
     "text": [
      "Target : Users_rated\n",
      "Best parameter:  {'selectkbest__k': 110, 'ridge__alpha': 1681.104226985784}\n",
      "Best R2 Score:  0.1591878731754009\n",
      "Target : Rating\n",
      "Best parameter:  {'selectkbest__k': 110, 'ridge__alpha': 1681.104226985784}\n",
      "Best R2 Score:  0.3947227329121841\n",
      "Target : Complexity\n",
      "Best parameter:  {'selectkbest__k': 110, 'ridge__alpha': 1681.104226985784}\n",
      "Best R2 Score:  0.6135654044099941\n"
     ]
    }
   ],
   "source": [
    "find_best_param_randomly(df_v3) # with engineering"
   ]
  },
  {
   "cell_type": "code",
   "execution_count": 39,
   "metadata": {},
   "outputs": [],
   "source": [
    "Xs, Ys, target_list = get_Xs_Ys(df_v2, [\"Users_rated\", \"Rating\", \"Complexity\"], [\"Sug_players\", \"Sug_age\", \"Language_dependence\", \"Own\"], use_val=False)"
   ]
  },
  {
   "cell_type": "code",
   "execution_count": 40,
   "metadata": {},
   "outputs": [],
   "source": [
    "ridge_test_eval = test_eval(Xs['test'], Ys['test'], ridge_model, target_list, scaler = scaler_v2)"
   ]
  },
  {
   "cell_type": "code",
   "execution_count": 41,
   "metadata": {},
   "outputs": [
    {
     "data": {
      "text/html": [
       "<div>\n",
       "<style scoped>\n",
       "    .dataframe tbody tr th:only-of-type {\n",
       "        vertical-align: middle;\n",
       "    }\n",
       "\n",
       "    .dataframe tbody tr th {\n",
       "        vertical-align: top;\n",
       "    }\n",
       "\n",
       "    .dataframe thead th {\n",
       "        text-align: right;\n",
       "    }\n",
       "</style>\n",
       "<table border=\"1\" class=\"dataframe\">\n",
       "  <thead>\n",
       "    <tr style=\"text-align: right;\">\n",
       "      <th></th>\n",
       "      <th>MSE</th>\n",
       "      <th>RMSE</th>\n",
       "      <th>MAE</th>\n",
       "      <th>R2</th>\n",
       "    </tr>\n",
       "  </thead>\n",
       "  <tbody>\n",
       "    <tr>\n",
       "      <th>Users_rated</th>\n",
       "      <td>9.137755e+06</td>\n",
       "      <td>3022.871906</td>\n",
       "      <td>1075.259778</td>\n",
       "      <td>0.195237</td>\n",
       "    </tr>\n",
       "    <tr>\n",
       "      <th>Rating</th>\n",
       "      <td>5.316205e-01</td>\n",
       "      <td>0.729123</td>\n",
       "      <td>0.544429</td>\n",
       "      <td>0.354373</td>\n",
       "    </tr>\n",
       "    <tr>\n",
       "      <th>Complexity</th>\n",
       "      <td>2.784578e-01</td>\n",
       "      <td>0.527691</td>\n",
       "      <td>0.375180</td>\n",
       "      <td>0.596104</td>\n",
       "    </tr>\n",
       "  </tbody>\n",
       "</table>\n",
       "</div>"
      ],
      "text/plain": [
       "                      MSE         RMSE          MAE        R2\n",
       "Users_rated  9.137755e+06  3022.871906  1075.259778  0.195237\n",
       "Rating       5.316205e-01     0.729123     0.544429  0.354373\n",
       "Complexity   2.784578e-01     0.527691     0.375180  0.596104"
      ]
     },
     "execution_count": 41,
     "metadata": {},
     "output_type": "execute_result"
    }
   ],
   "source": [
    "ridge_test_eval"
   ]
  },
  {
   "cell_type": "code",
   "execution_count": 48,
   "metadata": {},
   "outputs": [
    {
     "data": {
      "image/png": "[encoded data removed]",
      "text/plain": [
       "<Figure size 1440x1440 with 1 Axes>"
      ]
     },
     "metadata": {},
     "output_type": "display_data"
    }
   ],
   "source": [
    "# check last model about Complexity\n",
    "matplotlib.rcParams['font.family'] = 'sans-serif'\n",
    "coef_ = pd.Series(ridge_model[2].best_estimator_['ridge'].coef_,\n",
    "          index = ridge_model[2].best_estimator_['selectkbest'].get_feature_names_out()).sort_values()\n",
    "\n",
    "pd.concat([coef_.head(10), coef_.tail(10)]).plot.barh(figsize=(10, 10))\n",
    "plt.show()"
   ]
  },
  {
   "cell_type": "code",
   "execution_count": 43,
   "metadata": {},
   "outputs": [
    {
     "data": {
      "image/png": "[encoded data removed]",
      "text/plain": [
       "<Figure size 1200x300 with 1 Axes>"
      ]
     },
     "metadata": {},
     "output_type": "display_data"
    }
   ],
   "source": [
    "# simple linear에 비해 비교적 대칭적인 회귀계수\n",
    "sns.set(rc={'figure.figsize':(12, 3)})\n",
    "ax = sns.boxplot(x=coef_)\n",
    "ax.set(xlabel='coefficient')\n",
    "plt.show()"
   ]
  }
 ],
 "metadata": {
  "kernelspec": {
   "display_name": "codestates",
   "language": "python",
   "name": "codestates"
  },
  "language_info": {
   "codemirror_mode": {
    "name": "ipython",
    "version": 3
   },
   "file_extension": ".py",
   "mimetype": "text/x-python",
   "name": "python",
   "nbconvert_exporter": "python",
   "pygments_lexer": "ipython3",
   "version": "3.9.13"
  },
  "vscode": {
   "interpreter": {
    "hash": "cb73bac0861f7ad1c5e4f284911583bb658c36ecb40b89f5538794b4a14d4614"
   }
  }
 },
 "nbformat": 4,
 "nbformat_minor": 2
}
